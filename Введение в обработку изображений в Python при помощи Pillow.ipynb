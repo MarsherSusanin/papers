{
 "cells": [
  {
   "cell_type": "markdown",
   "metadata": {},
   "source": [
    "# Введение в обработку изображений в Python при помощи Pillow"
   ]
  },
  {
   "cell_type": "markdown",
   "metadata": {},
   "source": [
    "_[Оригинал статьи](https://kalebujordan.com/a-brief-introduction-to-python-pillow/), автор: Kalebu Jordan_"
   ]
  },
  {
   "cell_type": "markdown",
   "metadata": {},
   "source": [
    "[Pillow](https://pillow.readthedocs.io/en/stable/) - это свободно распространяемая библиотека для работы с изображениями (_далее Imaging Library_) на __Python__ с открытым исходным кодом, которая добавляет вашему коду поддержку открытия, изменения и сохранения изображений в различных расширениях."
   ]
  },
  {
   "cell_type": "markdown",
   "metadata": {},
   "source": [
    "### Давайте начнем"
   ]
  },
  {
   "cell_type": "markdown",
   "metadata": {},
   "source": [
    "Самый важный класс в Imaging Library Python - это класс Image, определенный в одноименном модуле. Мы используем open(), чтобы открыть изображение в нашей локальной директории, как показано ниже:"
   ]
  },
  {
   "cell_type": "code",
   "execution_count": 2,
   "metadata": {},
   "outputs": [],
   "source": [
    "from PIL import Image\n",
    "sample = Image.open('pena.jpg')"
   ]
  },
  {
   "cell_type": "markdown",
   "metadata": {},
   "source": [
    "Это просто! Теперь вы умеете считывать изображения с помощью __Pillow__, а значит можно приступать к обработке изображения с его помощью. Вы также можете проверить тип изображения, которое мы только что загрузили."
   ]
  },
  {
   "cell_type": "code",
   "execution_count": 3,
   "metadata": {},
   "outputs": [
    {
     "data": {
      "text/plain": [
       "PIL.JpegImagePlugin.JpegImageFile"
      ]
     },
     "execution_count": 3,
     "metadata": {},
     "output_type": "execute_result"
    }
   ],
   "source": [
    "type(sample)"
   ]
  },
  {
   "cell_type": "markdown",
   "metadata": {},
   "source": [
    "Вы можете посмотреть свойства изображения, например: \n",
    "- формат\n",
    "- размер\n",
    "- цветовой режим"
   ]
  },
  {
   "cell_type": "code",
   "execution_count": 5,
   "metadata": {},
   "outputs": [
    {
     "data": {
      "text/plain": [
       "'JPEG'"
      ]
     },
     "execution_count": 5,
     "metadata": {},
     "output_type": "execute_result"
    }
   ],
   "source": [
    "sample.format"
   ]
  },
  {
   "cell_type": "code",
   "execution_count": 6,
   "metadata": {},
   "outputs": [
    {
     "data": {
      "text/plain": [
       "(640, 640)"
      ]
     },
     "execution_count": 6,
     "metadata": {},
     "output_type": "execute_result"
    }
   ],
   "source": [
    "sample.size"
   ]
  },
  {
   "cell_type": "code",
   "execution_count": 7,
   "metadata": {},
   "outputs": [
    {
     "data": {
      "text/plain": [
       "'RGB'"
      ]
     },
     "execution_count": 7,
     "metadata": {},
     "output_type": "execute_result"
    }
   ],
   "source": [
    "sample.mode"
   ]
  },
  {
   "cell_type": "markdown",
   "metadata": {},
   "source": [
    "Кроме того, вы можете вывести на экран изображение, используя метод _show_"
   ]
  },
  {
   "cell_type": "code",
   "execution_count": 15,
   "metadata": {},
   "outputs": [],
   "source": [
    "sample.show() #Открывает в новом окне, расширение изображения меняется на PNG\n",
    "#http://joxi.ru/n2Y1M5Wfe6YJ82"
   ]
  },
  {
   "attachments": {},
   "cell_type": "markdown",
   "metadata": {},
   "source": [
    "![First image](http://dl4.joxi.net/drive/2020/11/30/0042/2268/2799836/36/9b9c6e95e1.jpg)"
   ]
  },
  {
   "cell_type": "markdown",
   "metadata": {},
   "source": [
    "### Конвертирование расширения изображения"
   ]
  },
  {
   "cell_type": "markdown",
   "metadata": {},
   "source": [
    "Когда вы закончите работать с изображением при помощи библиотеки __Pillow__  в изначальном расширении, вы можете  пересохранить его в других форматах, например, их jpg сделать png или многие другие.\n",
    "\n",
    "Для примера, давайте попробуем написать простую программу на Python для преобразования всех изображений в каталоге вашего проекта, которые находятся в формате jpg, в формат png."
   ]
  },
  {
   "cell_type": "code",
   "execution_count": 13,
   "metadata": {},
   "outputs": [],
   "source": [
    "import os\n",
    "import sys\n",
    "from PIL import Image\n",
    "jpg_images = [image for image in os.listdir() if image.endswith('.jpg')]\n",
    "for jpg_image in jpg_images:\n",
    "    try:\n",
    "        new_name = jpg_image.split('.')[0] + '.png'\n",
    "        Image.open(jpg_image).save(new_name)\n",
    "    except IOError as error:\n",
    "        print('Couldn\\'t read {} '.format(jpg_image))\n",
    "        \n",
    "#http://joxi.ru/12Mdnj8Ckb3R7m"
   ]
  },
  {
   "attachments": {},
   "cell_type": "markdown",
   "metadata": {},
   "source": [
    "![Second image](http://dl4.joxi.net/drive/2020/11/30/0042/2268/2799836/36/b2f8932428.jpg)"
   ]
  },
  {
   "cell_type": "markdown",
   "metadata": {},
   "source": [
    "После того, как вы запустите приведенный выше код, в каталоге проекта, состоящем из изображений в формате jpg, откроются все изображения и преобразуются в .png, как показано на скриншоте. Вы можете повторить тот же процесс для преобразования изображений в другие преобразований."
   ]
  },
  {
   "cell_type": "markdown",
   "metadata": {},
   "source": [
    "### Обрезка изображения"
   ]
  },
  {
   "cell_type": "markdown",
   "metadata": {},
   "source": [
    "__Pillow__ также может использоваться для обрезки изображения, при этом вы можете получить производный прямоугольник выбранного изображения, указав координаты, по которым преобразовать изображение."
   ]
  },
  {
   "cell_type": "code",
   "execution_count": 18,
   "metadata": {},
   "outputs": [],
   "source": [
    "from PIL import Image\n",
    "picture = Image.open('pena.png')\n",
    "cord = (10, 10, 640, 340) # лево, верх, право, низ\n",
    "new_picture = picture.crop(cord)\n",
    "new_picture.show()\n",
    "#http://joxi.ru/52aM9YOfk367V2"
   ]
  },
  {
   "attachments": {},
   "cell_type": "markdown",
   "metadata": {},
   "source": [
    "![Third image](http://dl4.joxi.net/drive/2020/11/30/0042/2268/2799836/36/e23d0ccd7e.jpg)"
   ]
  },
  {
   "cell_type": "markdown",
   "metadata": {},
   "source": [
    "Как мы видим, изображение было успешно обрезано. Координаты обрезанной поверхности представлены диагональными координатами.\n",
    "\n",
    "При этом первые две точки находятся (x, y) от верхней левой диагональной точки, а следующие две точки (x2, y2) также являются диагональной точкой снизу справа."
   ]
  },
  {
   "cell_type": "markdown",
   "metadata": {},
   "source": [
    "### Геометрическое преобразование"
   ]
  },
  {
   "cell_type": "markdown",
   "metadata": {},
   "source": [
    "С помощью __Pillow__ мы можем выполнять некоторые геометрические преобразования над изображением, включая изменение размера и поворот изображения.\n",
    "\n",
    "Эти знания играют большую роль при генерации данных для глубокого обучения путем преобразования одного изображения в тонны других изображений с разных ракурсов."
   ]
  },
  {
   "cell_type": "markdown",
   "metadata": {},
   "source": [
    "### Изменение размера изображения"
   ]
  },
  {
   "cell_type": "code",
   "execution_count": 20,
   "metadata": {},
   "outputs": [],
   "source": [
    "from PIL import Image\n",
    "image = Image.open('pena.png')\n",
    "resized_image = image.resize((320, 320))\n",
    "resized_image.save('resized.png')"
   ]
  },
  {
   "cell_type": "markdown",
   "metadata": {},
   "source": [
    "Когда вы запустите приведенный выше код, вы должны увидеть новое изображение с измененным размером в вашем каталоге с размером __320 на 320__."
   ]
  },
  {
   "cell_type": "markdown",
   "metadata": {},
   "source": [
    "### Поворот изображения"
   ]
  },
  {
   "cell_type": "code",
   "execution_count": 22,
   "metadata": {},
   "outputs": [],
   "source": [
    "from PIL import Image\n",
    "image = Image.open('pena.png')\n",
    "rotated_img = image.rotate(80)\n",
    "rotated_img.save('./rotation/rotated_img.png')\n",
    "#http://joxi.ru/1A5n0pgibyoj7r"
   ]
  },
  {
   "attachments": {},
   "cell_type": "markdown",
   "metadata": {},
   "source": [
    "![Fourth image](http://dl3.joxi.net/drive/2020/11/30/0042/2268/2799836/36/c955dd66f7.jpg)\n",
    "Используйте функцию вращения для создания 360 изображений одного из того же изображения под разными углами - это поможет сгенерировать данные, которые вы потенциально можете использовать для обучения своей модели глубокого обучения."
   ]
  },
  {
   "cell_type": "markdown",
   "metadata": {},
   "source": [
    "### Генератор изображений"
   ]
  },
  {
   "cell_type": "code",
   "execution_count": 23,
   "metadata": {},
   "outputs": [],
   "source": [
    "from PIL import Image \n",
    "images = ['pena.jpg']\n",
    "for img in images:\n",
    "    try:\n",
    "        org_img = Image.open(img)\n",
    "        for angle in range(1, 361):\n",
    "            image_name = str(angle)+'.jpg'\n",
    "            new_img = org_img.rotate(angle)\n",
    "            new_img.save('./rotation/'+image_name)\n",
    "    except IOError:\n",
    "        print('Couldn\\'t read {}'.format(img))\n",
    "#http://joxi.ru/82Qa15gt9vPO62"
   ]
  },
  {
   "cell_type": "markdown",
   "metadata": {},
   "source": [
    "После запуска скрипта, вы должны увидеть 360 изображений одного и того же исходного изображения с разным поворотом, как показано ниже."
   ]
  },
  {
   "attachments": {},
   "cell_type": "markdown",
   "metadata": {},
   "source": [
    "![Fifth image](http://dl4.joxi.net/drive/2020/11/30/0042/2268/2799836/36/dd1b92efcb.jpg)"
   ]
  },
  {
   "cell_type": "markdown",
   "metadata": {},
   "source": [
    "### Фильтрация изображений"
   ]
  },
  {
   "cell_type": "markdown",
   "metadata": {},
   "source": [
    "__Фильтрация__ - это метод изменения или улучшения изображения. Например, вы можете отфильтровать изображение, чтобы выделить определенные особенности или удалить другие.\n",
    "\n",
    "Фильтрация изображений используется для получения различных результатов, как, например,- сглаживание, повышение резкости, удаление шума и обнаружение краев.\n",
    "\n",
    "В библиотеке __Pillow__ доступно множество фильтров, включая BLUR, BoxBlur, CONTOUR, FIND_EDGES, Filter, GaussianBlur, Kernel, MaxFilter, MedianFilter, SHARPEN, SMOOTH и т.д."
   ]
  },
  {
   "cell_type": "markdown",
   "metadata": {},
   "source": [
    "### Пример использования"
   ]
  },
  {
   "cell_type": "markdown",
   "metadata": {},
   "source": [
    "Давайте попробуем найти края на изображении ниже, используя фильтр FIND_EDGES."
   ]
  },
  {
   "cell_type": "code",
   "execution_count": 27,
   "metadata": {},
   "outputs": [],
   "source": [
    "from PIL import Image\n",
    "from PIL import Image, ImageFilter\n",
    "image = Image.open('pena.jpg')\n",
    "edges = image.filter(ImageFilter.FIND_EDGES)\n",
    "edges.show()\n",
    "# http://joxi.ru/bmoweVGTyqxPkm"
   ]
  },
  {
   "attachments": {},
   "cell_type": "markdown",
   "metadata": {},
   "source": [
    "![Sixth image](http://dl3.joxi.net/drive/2020/12/01/0042/2268/2799836/36/8324ae26b4.jpg)\n",
    "Таким же образом вы можете экспериментировать с другими фильтрами в Python библиотеке __Pillow__ в зависимости от того, что вы пытаетесь сделать."
   ]
  },
  {
   "cell_type": "markdown",
   "metadata": {},
   "source": [
    "### Чтение изображения из открытого файла"
   ]
  },
  {
   "cell_type": "markdown",
   "metadata": {},
   "source": [
    "Кроме того, вы можете использовать __Pillow__ для чтения изображения из файлового объекта Python, как показано ниже"
   ]
  },
  {
   "cell_type": "code",
   "execution_count": 30,
   "metadata": {},
   "outputs": [],
   "source": [
    "from PIL import Image\n",
    "image = Image.open(open('pena.jpg', 'rb'))"
   ]
  },
  {
   "cell_type": "markdown",
   "metadata": {},
   "source": [
    "### Чтение изображения из URL"
   ]
  },
  {
   "cell_type": "markdown",
   "metadata": {},
   "source": [
    "В этом случае вам придется использовать __Pillow__ в сочетании с запросами. Запросы должны будут отправлять GET-request на сервер, чтобы получить необработанные байты изображения, а уже __Pillow__ считает эти байты."
   ]
  },
  {
   "cell_type": "code",
   "execution_count": 32,
   "metadata": {},
   "outputs": [],
   "source": [
    "import requests\n",
    "from PIL import Image\n",
    "url = 'http://pena.marketing/images/Logo1.png'\n",
    "raw = requests.get(url, stream=True).raw\n",
    "Image.open(raw).show()\n",
    "#http://joxi.ru/bmoweVGTyqxZpm"
   ]
  },
  {
   "attachments": {},
   "cell_type": "markdown",
   "metadata": {},
   "source": [
    "![Seventh image](http://dl3.joxi.net/drive/2020/12/01/0042/2268/2799836/36/0272295575.jpg)"
   ]
  },
  {
   "cell_type": "markdown",
   "metadata": {},
   "source": [
    "### Создание новых изображений"
   ]
  },
  {
   "cell_type": "markdown",
   "metadata": {},
   "source": [
    "С помощью __Pillow__ вы также можете создать новое пустое изображение, которое может понадобиться для различных целей. Используйте __Image.new()__ для создания совершенно нового изображения."
   ]
  },
  {
   "cell_type": "markdown",
   "metadata": {},
   "source": [
    "__Синтаксис__:\n",
    "```python\n",
    "new = Image.new(mode, shape, color)\n",
    "```\n",
    "\n",
    "__Пример использования__:"
   ]
  },
  {
   "cell_type": "code",
   "execution_count": 34,
   "metadata": {},
   "outputs": [],
   "source": [
    "from PIL import Image\n",
    "new_img = Image.new('RGB', (500, 500), 'blue')\n",
    "new_img.show()\n",
    "#http://joxi.ru/4AkYDeJTknyPXm"
   ]
  },
  {
   "attachments": {},
   "cell_type": "markdown",
   "metadata": {},
   "source": [
    "![Eighth image](http://dl4.joxi.net/drive/2020/12/01/0042/2268/2799836/36/bf387125eb.jpg)"
   ]
  },
  {
   "cell_type": "markdown",
   "metadata": {},
   "source": [
    "### Рисование прямоугольников на изображениях"
   ]
  },
  {
   "cell_type": "markdown",
   "metadata": {},
   "source": [
    "__Pillow__ также может использоваться для рисования прямоугольника на изображениях. Обычно это делают при обнаружении объекта. При этом вы можете нарисовать не просто прямоугольник, а рамку над обнаруженным объектом."
   ]
  },
  {
   "cell_type": "markdown",
   "metadata": {},
   "source": [
    "### Пример исползования"
   ]
  },
  {
   "cell_type": "markdown",
   "metadata": {},
   "source": [
    "Давайте попробуем нарисовать прямоугольную рамку внутри пустого изображения."
   ]
  },
  {
   "cell_type": "code",
   "execution_count": 36,
   "metadata": {},
   "outputs": [],
   "source": [
    "from PIL import Image, ImageDraw\n",
    "new_img = Image.new('RGB', (400, 400), 'black')\n",
    "pencil = ImageDraw.Draw(new_img)\n",
    "pencil.rectangle((200, 50, 300, 300), fill ='green')\n",
    "new_img.show()\n",
    "# http://joxi.ru/DrleDVquyjVb5m"
   ]
  },
  {
   "attachments": {},
   "cell_type": "markdown",
   "metadata": {},
   "source": [
    "![Ninth image](http://dl4.joxi.net/drive/2020/12/01/0042/2268/2799836/36/a529c50375.jpg)\n",
    "Первые две координаты представляют (x, y) левой верхней части, а следующие две (x2, y2) представляют координатную точку правой нижней части."
   ]
  },
  {
   "cell_type": "markdown",
   "metadata": {},
   "source": [
    "### Рисование текста на изображениях"
   ]
  },
  {
   "cell_type": "markdown",
   "metadata": {},
   "source": [
    "Мы также можем использовать библиотеку __Pillow__ для рисования текста на изображениях."
   ]
  },
  {
   "cell_type": "code",
   "execution_count": 58,
   "metadata": {},
   "outputs": [],
   "source": [
    "from PIL import Image , ImageDraw, ImageFont \n",
    "new_img = Image.new('RGB', (200, 200), 'black')\n",
    "font = ImageFont.load_default()\n",
    "pencil = ImageDraw.Draw(new_img)\n",
    "pencil.text((100,100),'Hello World',  font=font, fill='blue', size = 36)\n",
    "new_img.show()\n",
    "# http://joxi.ru/brRRy6MtOE7NMr"
   ]
  },
  {
   "attachments": {},
   "cell_type": "markdown",
   "metadata": {},
   "source": [
    "![Tenth image](http://dl3.joxi.net/drive/2020/12/01/0042/2268/2799836/36/fb67826c1e.jpg)"
   ]
  },
  {
   "cell_type": "code",
   "execution_count": null,
   "metadata": {},
   "outputs": [],
   "source": []
  }
 ],
 "metadata": {
  "kernelspec": {
   "display_name": "Python 3",
   "language": "python",
   "name": "python3"
  },
  "language_info": {
   "codemirror_mode": {
    "name": "ipython",
    "version": 3
   },
   "file_extension": ".py",
   "mimetype": "text/x-python",
   "name": "python",
   "nbconvert_exporter": "python",
   "pygments_lexer": "ipython3",
   "version": "3.8.5"
  }
 },
 "nbformat": 4,
 "nbformat_minor": 4
}
